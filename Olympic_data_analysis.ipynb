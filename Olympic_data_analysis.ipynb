{
 "cells": [
  {
   "cell_type": "markdown",
   "id": "949c8926-d561-4414-8e15-74189c883b25",
   "metadata": {},
   "source": [
    "#  Data Analyst Portfolio Project - Olympic Games Analysis"
   ]
  },
  {
   "cell_type": "markdown",
   "id": "5db59c4a-7030-4b95-9b12-69d24c73309c",
   "metadata": {
    "tags": []
   },
   "source": [
    "### **Table project**\n",
    "<img src='olympic_sql.png'\n",
    "    style=\"width:450px; float: left; margin: 0 20px 20px 20px;\"></img>\n",
    "<img src='olympic_mdl.png'\n",
    "    style=\"width:450px; float: left; margin: 0 20px 20px 20px;\"></img>\n",
    "\n",
    "<img src='olympic_dash.png'\n",
    "    style=\"width:450px; float: left; margin: 0 20px 20px 20px;\"></img>\n",
    "    "
   ]
  },
  {
   "cell_type": "markdown",
   "id": "501a316d-ef97-4976-b3de-4a75344ce5a1",
   "metadata": {},
   "source": [
    "## Business Request & User Stories\n",
    "\n",
    "**The challenge for this data analyst project is outlined below. This has been used continuously to ensure that the right data has been selected, transformed and used in the data visualization which is meant to be passed on to the business users.**\n",
    "\n",
    "***“As a data analyst working at a news company you are asked to visualize data that will help readers understand how countries have performed historically in the summer Olympic Games.***\n",
    "\n",
    "***You also know that there is an interest in details about the competitors, so if you find anything interesting then don’t hesitate to bring that in also.***\n",
    "\n",
    "***The main task is still to show historical performance for different countries, with the possibility to select your own country.”***"
   ]
  },
  {
   "cell_type": "markdown",
   "id": "364892cb-7d39-4f53-aa62-a0dec77092fd",
   "metadata": {},
   "source": [
    "## Data Collection & Table Structures \n",
    "\n",
    "**The necessary data was first put into a SQL database and afterwards transformed using the transformations that you can see below.**"
   ]
  },
  {
   "cell_type": "markdown",
   "id": "7b1b5b98-b59d-47b5-aa60-b2fa469680e7",
   "metadata": {},
   "source": [
    "### **Query SQL Server**\n",
    "<img src='olympic_clean.png'\n",
    "    style=\"width:850px; float: left; margin: 0 20px 20px 20px;\"></img>\n"
   ]
  },
  {
   "cell_type": "markdown",
   "id": "9de0b469-5c26-4ffd-87cb-986daf29646b",
   "metadata": {},
   "source": [
    "## Data Model\n",
    "**As this is a view where dimensions and facts have been combined, the data model that is created in Power BI is one table. The query from previous step was loaded in directly.**\n",
    "\n",
    "<img src='olympic_mdl.png'\n",
    "    style=\"width:850px; float: left; margin: 0 20px 20px 20px;\"></img>\n"
   ]
  },
  {
   "cell_type": "markdown",
   "id": "ef63046e-875a-4ec0-9dcd-710a70991789",
   "metadata": {},
   "source": [
    "## Calculations\n",
    "**The following calculations were created in the Power BI reports using DAX (Data Analysis Expressions). To lessen the extent of coding, the re-use of measures (measure branching) was emphasized:**\n",
    "\n",
    "***Number of Competitors:***\n",
    "\n",
    "***# of Competitors = DISTINCTCOUNT( ‘Olympic Data'[ID] )***\n",
    "\n",
    "***# of Medals = \n",
    "CALCULATE (\n",
    "    COUNTROWS ( OlympicDF ),\n",
    "    FILTER (\n",
    "        OlympicDF,\n",
    "        OlympicDF[Medal] = \"Gold\"\n",
    "            || OlympicDF[Medal] = \"Silver\"\n",
    "            || OlympicDF[Medal] = \"Bronze\"\n",
    "    )\n",
    ")***"
   ]
  },
  {
   "cell_type": "markdown",
   "id": "5aa58da9-4fc1-4e8e-9860-c0bc8a15d8c5",
   "metadata": {},
   "source": [
    "## Olympic Games Analysis\n",
    "**The finished dashboard consist of visualizations and filters that gives an easy option for the end users to navigate the summer games through history. Some possibilities are to filter by period using year, nation code to focus on one country or look into either a competitor or specific sports over time.**\n",
    "\n",
    "<img src='olympic_web.png'\n",
    "    style=\"width:850px; float: left; margin: 0 20px 20px 20px;\"></img>\n"
   ]
  }
 ],
 "metadata": {
  "kernelspec": {
   "display_name": "Python 3 (ipykernel)",
   "language": "python",
   "name": "python3"
  },
  "language_info": {
   "codemirror_mode": {
    "name": "ipython",
    "version": 3
   },
   "file_extension": ".py",
   "mimetype": "text/x-python",
   "name": "python",
   "nbconvert_exporter": "python",
   "pygments_lexer": "ipython3",
   "version": "3.9.1"
  }
 },
 "nbformat": 4,
 "nbformat_minor": 5
}
